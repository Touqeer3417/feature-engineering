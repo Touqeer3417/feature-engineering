{
 "cells": [
  {
   "cell_type": "markdown",
   "id": "7e41a290",
   "metadata": {},
   "source": [
    "# Targeted Guided Orinal Ecoding\n",
    "\n",
    "### It is used to encode categories variables based on the relationship with target varialbe"
   ]
  },
  {
   "cell_type": "code",
   "execution_count": 14,
   "id": "5cb377e2",
   "metadata": {},
   "outputs": [
    {
     "data": {
      "text/plain": [
       "{'New york': 201.0, 'london': 130.0, 'paris': 250.0, 'tokyo': 250.0}"
      ]
     },
     "execution_count": 14,
     "metadata": {},
     "output_type": "execute_result"
    }
   ],
   "source": [
    "import pandas as pd\n",
    "df = pd.DataFrame(\n",
    "    {\n",
    "        'city':[\"New york\",\"london\",\"paris\" ,\"tokyo\",\"New york\" ,\"paris\"],\n",
    "        \"price\":[102,130 , 150 , 250 ,300 ,350 ]\n",
    "    }\n",
    ")\n",
    "mean_Price = df.groupby('city')['price'].mean().to_dict()\n",
    "mean_Price\n"
   ]
  },
  {
   "cell_type": "markdown",
   "id": "e6895dd1",
   "metadata": {},
   "source": [
    "## Asssignment"
   ]
  },
  {
   "cell_type": "code",
   "execution_count": 15,
   "id": "f0617876",
   "metadata": {},
   "outputs": [],
   "source": [
    "import seaborn as sns\n"
   ]
  },
  {
   "cell_type": "code",
   "execution_count": 26,
   "id": "3da91fc0",
   "metadata": {},
   "outputs": [
    {
     "name": "stdout",
     "output_type": "stream",
     "text": [
      "   total_bill   tip     sex smoker  day    time  size\n",
      "0       16.99  1.01  Female     No  Sun  Dinner     2\n",
      "1       10.34  1.66    Male     No  Sun  Dinner     3\n",
      "2       21.01  3.50    Male     No  Sun  Dinner     3\n",
      "3       23.68  3.31    Male     No  Sun  Dinner     2\n",
      "4       24.59  3.61  Female     No  Sun  Dinner     4\n"
     ]
    }
   ],
   "source": [
    "tips = sns.load_dataset('tips')\n",
    "\n",
    "print(tips.head())"
   ]
  },
  {
   "cell_type": "code",
   "execution_count": 38,
   "id": "c78e921d",
   "metadata": {},
   "outputs": [
    {
     "name": "stderr",
     "output_type": "stream",
     "text": [
      "C:\\Users\\touqe\\AppData\\Local\\Temp\\ipykernel_8108\\3356554826.py:1: FutureWarning: The default of observed=False is deprecated and will be changed to True in a future version of pandas. Pass observed=False to retain current behavior or observed=True to adopt the future default and silence this warning.\n",
      "  tips.groupby('time')[\"total_bill\"].mean()\n"
     ]
    },
    {
     "data": {
      "text/plain": [
       "time\n",
       "Lunch     17.168676\n",
       "Dinner    20.797159\n",
       "Name: total_bill, dtype: float64"
      ]
     },
     "execution_count": 38,
     "metadata": {},
     "output_type": "execute_result"
    }
   ],
   "source": [
    "tips.groupby('time')[\"total_bill\"].mean()"
   ]
  },
  {
   "cell_type": "code",
   "execution_count": null,
   "id": "17087404",
   "metadata": {},
   "outputs": [],
   "source": []
  }
 ],
 "metadata": {
  "kernelspec": {
   "display_name": "base",
   "language": "python",
   "name": "python3"
  },
  "language_info": {
   "codemirror_mode": {
    "name": "ipython",
    "version": 3
   },
   "file_extension": ".py",
   "mimetype": "text/x-python",
   "name": "python",
   "nbconvert_exporter": "python",
   "pygments_lexer": "ipython3",
   "version": "3.13.5"
  }
 },
 "nbformat": 4,
 "nbformat_minor": 5
}
